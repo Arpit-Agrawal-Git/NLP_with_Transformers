{
 "cells": [
  {
   "cell_type": "markdown",
   "id": "c4e826ef-ed62-4481-b02c-4af74c0c663d",
   "metadata": {},
   "source": [
    "# Stemming\n",
    "\n",
    "Stemming is a text normalization method used in NLP to simplify text before it is processed by a model. Stemming break the final few characters of a word in order to find a common form of the word. If we take the following sentence:"
   ]
  },
  {
   "cell_type": "code",
   "execution_count": 1,
   "id": "818175ef-857c-4042-a9f1-5f46bbf0e2b8",
   "metadata": {},
   "outputs": [],
   "source": [
    "txt = \"I am amazed by how amazingly amazing you are\""
   ]
  },
  {
   "cell_type": "markdown",
   "id": "08f7a154-75fa-433a-8a63-df7c8fa135fe",
   "metadata": {},
   "source": [
    "We use **different forms** of the **word amaze** a total of three times. Each of these different forms is called an **'inflection'**, which is the **modification** of a word to slightly **adjust the meaning or context of the word**. When we tokenize this text we produce three different tokens for each inflection of happy, which is okay but in many applications this level of granularity in the semantic meaning of the word is not required and can damage model performance.\n",
    "\n",
    "Sophisticated models (eg BERT), use different methods that maintain the inflection of each word - but it is important to understand stemming as it was a very important part of text preprocessing for a very long time, and still relevant to many applications.\n",
    "\n",
    "To apply stemming we will be using the NLTK package, which provides several different stemmers, we will test the PorterStemmer and LancasterStemmer."
   ]
  },
  {
   "cell_type": "code",
   "execution_count": 4,
   "id": "a63187ef-a518-4233-bd81-eddc7528ade6",
   "metadata": {},
   "outputs": [
    {
     "name": "stdout",
     "output_type": "stream",
     "text": [
      "Word | Porter | Lancaster\n",
      "happy | happi | happy\n",
      "happiest | happiest | happiest\n",
      "happier | happier | happy\n",
      "cactus | cactu | cact\n",
      "cactii | cactii | cacti\n",
      "elephant | eleph | eleph\n",
      "elephants | eleph | eleph\n",
      "amazed | amaz | amaz\n",
      "amazing | amaz | amaz\n",
      "amazingly | amazingli | amaz\n",
      "cement | cement | cem\n",
      "owed | owe | ow\n",
      "maximum | maximum | maxim\n"
     ]
    }
   ],
   "source": [
    "words_to_stem = ['happy', 'happiest', 'happier', 'cactus', 'cactii', 'elephant', 'elephants', 'amazed', 'amazing', 'amazingly', 'cement', 'owed', 'maximum']\n",
    "\n",
    "from nltk.stem import PorterStemmer, LancasterStemmer\n",
    "\n",
    "porter = PorterStemmer()\n",
    "lancaster = LancasterStemmer()\n",
    "\n",
    "stemmed = [(porter.stem(word), lancaster.stem(word)) for word in words_to_stem]\n",
    "\n",
    "print(\"Word | Porter | Lancaster\")\n",
    "\n",
    "for word,stem in zip(words_to_stem,stemmed):\n",
    "    print(f\"{word} | {stem[0]} | {stem[1]}\")\n",
    "                 "
   ]
  },
  {
   "cell_type": "markdown",
   "id": "0dcbf34d-c4cf-4799-bd27-4409282b0389",
   "metadata": {},
   "source": [
    "The **Porter stemmer** is a **set of rules** that strip common suffixes from the ends of words, each of these rules are applied on after the other and produce our Porter stemmed words. It is a simple stemmer, and very fast.\n",
    "\n",
    "The **Lancaster stemmer** contains a **larger set of rules** and rather than applying each rule one after the other will keep iterating through the list of rules and find a rule that matches the current condition, which will then delete or replace the ending of the word. \n",
    "\n",
    "The iterations will stop once no more rules can be applied to the word \n",
    "**OR** \n",
    "if the word starts with a vowel and only two characters remain \n",
    "**OR** \n",
    "if the word starts with a consonant and there are three characters remaining. \n",
    "\n",
    "The Lancaster stemmer is much more aggressive in its stemming, sometimes this is a good thing, sometimes not.\n",
    "\n",
    "We can see from the results of the two stemmers above -> neither are perfect, and this is the case with all stemming algorithms."
   ]
  },
  {
   "cell_type": "code",
   "execution_count": null,
   "id": "8976a1e4-d570-4ba5-9da3-acdcdbad1656",
   "metadata": {},
   "outputs": [],
   "source": []
  }
 ],
 "metadata": {
  "kernelspec": {
   "display_name": "Python 3 (ipykernel)",
   "language": "python",
   "name": "python3"
  },
  "language_info": {
   "codemirror_mode": {
    "name": "ipython",
    "version": 3
   },
   "file_extension": ".py",
   "mimetype": "text/x-python",
   "name": "python",
   "nbconvert_exporter": "python",
   "pygments_lexer": "ipython3",
   "version": "3.10.11"
  }
 },
 "nbformat": 4,
 "nbformat_minor": 5
}
