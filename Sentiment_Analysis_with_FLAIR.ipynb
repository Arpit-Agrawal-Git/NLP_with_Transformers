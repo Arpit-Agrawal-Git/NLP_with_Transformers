{
 "cells": [
  {
   "cell_type": "code",
   "execution_count": 1,
   "id": "7bda16f2",
   "metadata": {
    "scrolled": true
   },
   "outputs": [
    {
     "name": "stdout",
     "output_type": "stream",
     "text": [
      "Collecting flair\n",
      "  Downloading flair-0.13.1-py3-none-any.whl.metadata (12 kB)\n",
      "Collecting boto3>=1.20.27 (from flair)\n",
      "  Downloading boto3-1.34.113-py3-none-any.whl.metadata (6.6 kB)\n",
      "Collecting bpemb>=0.3.2 (from flair)\n",
      "  Downloading bpemb-0.3.5-py3-none-any.whl.metadata (19 kB)\n",
      "Collecting conllu>=4.0 (from flair)\n",
      "  Downloading conllu-4.5.3-py2.py3-none-any.whl.metadata (19 kB)\n",
      "Requirement already satisfied: deprecated>=1.2.13 in c:\\users\\arpit\\appdata\\local\\packages\\pythonsoftwarefoundation.python.3.10_qbz5n2kfra8p0\\localcache\\local-packages\\python310\\site-packages (from flair) (1.2.14)\n",
      "Collecting ftfy>=6.1.0 (from flair)\n",
      "  Downloading ftfy-6.2.0-py3-none-any.whl.metadata (7.3 kB)\n",
      "Collecting gdown>=4.4.0 (from flair)\n",
      "  Downloading gdown-5.2.0-py3-none-any.whl.metadata (5.8 kB)\n",
      "Collecting gensim>=4.2.0 (from flair)\n",
      "  Downloading gensim-4.3.2-cp310-cp310-win_amd64.whl.metadata (8.5 kB)\n",
      "Requirement already satisfied: huggingface-hub>=0.10.0 in c:\\users\\arpit\\appdata\\local\\packages\\pythonsoftwarefoundation.python.3.10_qbz5n2kfra8p0\\localcache\\local-packages\\python310\\site-packages (from flair) (0.22.2)\n",
      "Collecting janome>=0.4.2 (from flair)\n",
      "  Downloading Janome-0.5.0-py2.py3-none-any.whl.metadata (2.6 kB)\n",
      "Collecting langdetect>=1.0.9 (from flair)\n",
      "  Downloading langdetect-1.0.9.tar.gz (981 kB)\n",
      "     ---------------------------------------- 0.0/981.5 kB ? eta -:--:--\n",
      "     -------------- ----------------------- 368.6/981.5 kB 7.6 MB/s eta 0:00:01\n",
      "     ------------------------------ ------- 778.2/981.5 kB 8.2 MB/s eta 0:00:01\n",
      "     ----------------------------------- -- 911.4/981.5 kB 8.2 MB/s eta 0:00:01\n",
      "     ------------------------------------ - 942.1/981.5 kB 6.6 MB/s eta 0:00:01\n",
      "     -------------------------------------- 981.5/981.5 kB 4.4 MB/s eta 0:00:00\n",
      "  Preparing metadata (setup.py): started\n",
      "  Preparing metadata (setup.py): finished with status 'done'\n",
      "Collecting lxml>=4.8.0 (from flair)\n",
      "  Downloading lxml-5.2.2-cp310-cp310-win_amd64.whl.metadata (3.5 kB)\n",
      "Requirement already satisfied: matplotlib>=2.2.3 in c:\\users\\arpit\\appdata\\local\\packages\\pythonsoftwarefoundation.python.3.10_qbz5n2kfra8p0\\localcache\\local-packages\\python310\\site-packages (from flair) (3.6.2)\n",
      "Collecting more-itertools>=8.13.0 (from flair)\n",
      "  Downloading more_itertools-10.2.0-py3-none-any.whl.metadata (34 kB)\n",
      "Collecting mpld3>=0.3 (from flair)\n",
      "  Downloading mpld3-0.5.10-py3-none-any.whl.metadata (5.1 kB)\n",
      "Collecting pptree>=3.1 (from flair)\n",
      "  Downloading pptree-3.1.tar.gz (3.0 kB)\n",
      "  Preparing metadata (setup.py): started\n",
      "  Preparing metadata (setup.py): finished with status 'done'\n",
      "Requirement already satisfied: python-dateutil>=2.8.2 in c:\\users\\arpit\\appdata\\local\\packages\\pythonsoftwarefoundation.python.3.10_qbz5n2kfra8p0\\localcache\\local-packages\\python310\\site-packages (from flair) (2.8.2)\n",
      "Collecting pytorch-revgrad>=0.2.0 (from flair)\n",
      "  Downloading pytorch_revgrad-0.2.0-py3-none-any.whl.metadata (1.7 kB)\n",
      "Requirement already satisfied: regex>=2022.1.18 in c:\\users\\arpit\\appdata\\local\\packages\\pythonsoftwarefoundation.python.3.10_qbz5n2kfra8p0\\localcache\\local-packages\\python310\\site-packages (from flair) (2022.10.31)\n",
      "Requirement already satisfied: scikit-learn>=1.0.2 in c:\\users\\arpit\\appdata\\local\\packages\\pythonsoftwarefoundation.python.3.10_qbz5n2kfra8p0\\localcache\\local-packages\\python310\\site-packages (from flair) (1.2.1)\n",
      "Collecting segtok>=1.5.11 (from flair)\n",
      "  Downloading segtok-1.5.11-py3-none-any.whl.metadata (9.0 kB)\n",
      "Collecting sqlitedict>=2.0.0 (from flair)\n",
      "  Downloading sqlitedict-2.1.0.tar.gz (21 kB)\n",
      "  Preparing metadata (setup.py): started\n",
      "  Preparing metadata (setup.py): finished with status 'done'\n",
      "Collecting tabulate>=0.8.10 (from flair)\n",
      "  Downloading tabulate-0.9.0-py3-none-any.whl.metadata (34 kB)\n",
      "Requirement already satisfied: torch!=1.8,>=1.5.0 in c:\\users\\arpit\\appdata\\local\\packages\\pythonsoftwarefoundation.python.3.10_qbz5n2kfra8p0\\localcache\\local-packages\\python310\\site-packages (from flair) (2.2.2)\n",
      "Requirement already satisfied: tqdm>=4.63.0 in c:\\users\\arpit\\appdata\\local\\packages\\pythonsoftwarefoundation.python.3.10_qbz5n2kfra8p0\\localcache\\local-packages\\python310\\site-packages (from flair) (4.66.4)\n",
      "Collecting transformer-smaller-training-vocab>=0.2.3 (from flair)\n",
      "  Downloading transformer_smaller_training_vocab-0.4.0-py3-none-any.whl.metadata (8.1 kB)\n",
      "Requirement already satisfied: transformers<5.0.0,>=4.18.0 in c:\\users\\arpit\\appdata\\local\\packages\\pythonsoftwarefoundation.python.3.10_qbz5n2kfra8p0\\localcache\\local-packages\\python310\\site-packages (from transformers[sentencepiece]<5.0.0,>=4.18.0->flair) (4.39.2)\n",
      "Requirement already satisfied: urllib3<2.0.0,>=1.0.0 in c:\\users\\arpit\\appdata\\local\\packages\\pythonsoftwarefoundation.python.3.10_qbz5n2kfra8p0\\localcache\\local-packages\\python310\\site-packages (from flair) (1.26.13)\n",
      "Collecting wikipedia-api>=0.5.7 (from flair)\n",
      "  Downloading Wikipedia_API-0.6.0-py3-none-any.whl.metadata (22 kB)\n",
      "Collecting semver<4.0.0,>=3.0.0 (from flair)\n",
      "  Downloading semver-3.0.2-py3-none-any.whl.metadata (5.0 kB)\n",
      "Collecting botocore<1.35.0,>=1.34.113 (from boto3>=1.20.27->flair)\n",
      "  Downloading botocore-1.34.113-py3-none-any.whl.metadata (5.7 kB)\n",
      "Collecting jmespath<2.0.0,>=0.7.1 (from boto3>=1.20.27->flair)\n",
      "  Downloading jmespath-1.0.1-py3-none-any.whl.metadata (7.6 kB)\n",
      "Collecting s3transfer<0.11.0,>=0.10.0 (from boto3>=1.20.27->flair)\n",
      "  Downloading s3transfer-0.10.1-py3-none-any.whl.metadata (1.7 kB)\n",
      "Requirement already satisfied: numpy in c:\\users\\arpit\\appdata\\local\\packages\\pythonsoftwarefoundation.python.3.10_qbz5n2kfra8p0\\localcache\\local-packages\\python310\\site-packages (from bpemb>=0.3.2->flair) (1.23.5)\n",
      "Requirement already satisfied: requests in c:\\users\\arpit\\appdata\\local\\packages\\pythonsoftwarefoundation.python.3.10_qbz5n2kfra8p0\\localcache\\local-packages\\python310\\site-packages (from bpemb>=0.3.2->flair) (2.31.0)\n",
      "Collecting sentencepiece (from bpemb>=0.3.2->flair)\n",
      "  Downloading sentencepiece-0.2.0-cp310-cp310-win_amd64.whl.metadata (8.3 kB)\n",
      "Requirement already satisfied: wrapt<2,>=1.10 in c:\\users\\arpit\\appdata\\local\\packages\\pythonsoftwarefoundation.python.3.10_qbz5n2kfra8p0\\localcache\\local-packages\\python310\\site-packages (from deprecated>=1.2.13->flair) (1.15.0)\n",
      "Collecting wcwidth<0.3.0,>=0.2.12 (from ftfy>=6.1.0->flair)\n",
      "  Downloading wcwidth-0.2.13-py2.py3-none-any.whl.metadata (14 kB)\n",
      "Requirement already satisfied: beautifulsoup4 in c:\\users\\arpit\\appdata\\local\\packages\\pythonsoftwarefoundation.python.3.10_qbz5n2kfra8p0\\localcache\\local-packages\\python310\\site-packages (from gdown>=4.4.0->flair) (4.12.3)\n",
      "Requirement already satisfied: filelock in c:\\users\\arpit\\appdata\\local\\packages\\pythonsoftwarefoundation.python.3.10_qbz5n2kfra8p0\\localcache\\local-packages\\python310\\site-packages (from gdown>=4.4.0->flair) (3.12.2)\n",
      "Requirement already satisfied: scipy>=1.7.0 in c:\\users\\arpit\\appdata\\local\\packages\\pythonsoftwarefoundation.python.3.10_qbz5n2kfra8p0\\localcache\\local-packages\\python310\\site-packages (from gensim>=4.2.0->flair) (1.10.0)\n",
      "Requirement already satisfied: smart-open>=1.8.1 in c:\\users\\arpit\\appdata\\local\\packages\\pythonsoftwarefoundation.python.3.10_qbz5n2kfra8p0\\localcache\\local-packages\\python310\\site-packages (from gensim>=4.2.0->flair) (5.2.1)\n",
      "Requirement already satisfied: fsspec>=2023.5.0 in c:\\users\\arpit\\appdata\\local\\packages\\pythonsoftwarefoundation.python.3.10_qbz5n2kfra8p0\\localcache\\local-packages\\python310\\site-packages (from huggingface-hub>=0.10.0->flair) (2024.3.1)\n",
      "Requirement already satisfied: packaging>=20.9 in c:\\users\\arpit\\appdata\\local\\packages\\pythonsoftwarefoundation.python.3.10_qbz5n2kfra8p0\\localcache\\local-packages\\python310\\site-packages (from huggingface-hub>=0.10.0->flair) (23.2)\n",
      "Requirement already satisfied: pyyaml>=5.1 in c:\\users\\arpit\\appdata\\local\\packages\\pythonsoftwarefoundation.python.3.10_qbz5n2kfra8p0\\localcache\\local-packages\\python310\\site-packages (from huggingface-hub>=0.10.0->flair) (6.0.1)\n",
      "Requirement already satisfied: typing-extensions>=3.7.4.3 in c:\\users\\arpit\\appdata\\local\\packages\\pythonsoftwarefoundation.python.3.10_qbz5n2kfra8p0\\localcache\\local-packages\\python310\\site-packages (from huggingface-hub>=0.10.0->flair) (4.10.0)\n",
      "Requirement already satisfied: six in c:\\users\\arpit\\appdata\\local\\packages\\pythonsoftwarefoundation.python.3.10_qbz5n2kfra8p0\\localcache\\local-packages\\python310\\site-packages (from langdetect>=1.0.9->flair) (1.16.0)\n",
      "Requirement already satisfied: contourpy>=1.0.1 in c:\\users\\arpit\\appdata\\local\\packages\\pythonsoftwarefoundation.python.3.10_qbz5n2kfra8p0\\localcache\\local-packages\\python310\\site-packages (from matplotlib>=2.2.3->flair) (1.0.6)\n",
      "Requirement already satisfied: cycler>=0.10 in c:\\users\\arpit\\appdata\\local\\packages\\pythonsoftwarefoundation.python.3.10_qbz5n2kfra8p0\\localcache\\local-packages\\python310\\site-packages (from matplotlib>=2.2.3->flair) (0.11.0)\n",
      "Requirement already satisfied: fonttools>=4.22.0 in c:\\users\\arpit\\appdata\\local\\packages\\pythonsoftwarefoundation.python.3.10_qbz5n2kfra8p0\\localcache\\local-packages\\python310\\site-packages (from matplotlib>=2.2.3->flair) (4.38.0)\n",
      "Requirement already satisfied: kiwisolver>=1.0.1 in c:\\users\\arpit\\appdata\\local\\packages\\pythonsoftwarefoundation.python.3.10_qbz5n2kfra8p0\\localcache\\local-packages\\python310\\site-packages (from matplotlib>=2.2.3->flair) (1.4.4)\n",
      "Requirement already satisfied: pillow>=6.2.0 in c:\\users\\arpit\\appdata\\local\\packages\\pythonsoftwarefoundation.python.3.10_qbz5n2kfra8p0\\localcache\\local-packages\\python310\\site-packages (from matplotlib>=2.2.3->flair) (9.3.0)\n",
      "Requirement already satisfied: pyparsing>=2.2.1 in c:\\users\\arpit\\appdata\\local\\packages\\pythonsoftwarefoundation.python.3.10_qbz5n2kfra8p0\\localcache\\local-packages\\python310\\site-packages (from matplotlib>=2.2.3->flair) (3.0.9)\n",
      "Requirement already satisfied: jinja2 in c:\\users\\arpit\\appdata\\local\\packages\\pythonsoftwarefoundation.python.3.10_qbz5n2kfra8p0\\localcache\\local-packages\\python310\\site-packages (from mpld3>=0.3->flair) (3.1.2)\n",
      "Requirement already satisfied: joblib>=1.1.1 in c:\\users\\arpit\\appdata\\local\\packages\\pythonsoftwarefoundation.python.3.10_qbz5n2kfra8p0\\localcache\\local-packages\\python310\\site-packages (from scikit-learn>=1.0.2->flair) (1.2.0)\n",
      "Requirement already satisfied: threadpoolctl>=2.0.0 in c:\\users\\arpit\\appdata\\local\\packages\\pythonsoftwarefoundation.python.3.10_qbz5n2kfra8p0\\localcache\\local-packages\\python310\\site-packages (from scikit-learn>=1.0.2->flair) (3.1.0)\n",
      "Requirement already satisfied: sympy in c:\\users\\arpit\\appdata\\local\\packages\\pythonsoftwarefoundation.python.3.10_qbz5n2kfra8p0\\localcache\\local-packages\\python310\\site-packages (from torch!=1.8,>=1.5.0->flair) (1.12)\n",
      "Requirement already satisfied: networkx in c:\\users\\arpit\\appdata\\local\\packages\\pythonsoftwarefoundation.python.3.10_qbz5n2kfra8p0\\localcache\\local-packages\\python310\\site-packages (from torch!=1.8,>=1.5.0->flair) (3.2.1)\n",
      "Requirement already satisfied: colorama in c:\\users\\arpit\\appdata\\local\\packages\\pythonsoftwarefoundation.python.3.10_qbz5n2kfra8p0\\localcache\\local-packages\\python310\\site-packages (from tqdm>=4.63.0->flair) (0.4.6)\n",
      "Requirement already satisfied: tokenizers<0.19,>=0.14 in c:\\users\\arpit\\appdata\\local\\packages\\pythonsoftwarefoundation.python.3.10_qbz5n2kfra8p0\\localcache\\local-packages\\python310\\site-packages (from transformers<5.0.0,>=4.18.0->transformers[sentencepiece]<5.0.0,>=4.18.0->flair) (0.15.2)\n",
      "Requirement already satisfied: safetensors>=0.4.1 in c:\\users\\arpit\\appdata\\local\\packages\\pythonsoftwarefoundation.python.3.10_qbz5n2kfra8p0\\localcache\\local-packages\\python310\\site-packages (from transformers<5.0.0,>=4.18.0->transformers[sentencepiece]<5.0.0,>=4.18.0->flair) (0.4.2)\n",
      "Requirement already satisfied: protobuf in c:\\users\\arpit\\appdata\\local\\packages\\pythonsoftwarefoundation.python.3.10_qbz5n2kfra8p0\\localcache\\local-packages\\python310\\site-packages (from transformers[sentencepiece]<5.0.0,>=4.18.0->flair) (4.21.12)\n",
      "Collecting accelerate>=0.21.0 (from transformers[sentencepiece,torch]<5.0,>=4.1->transformer-smaller-training-vocab>=0.2.3->flair)\n",
      "  Downloading accelerate-0.30.1-py3-none-any.whl.metadata (18 kB)\n",
      "Requirement already satisfied: soupsieve>1.2 in c:\\users\\arpit\\appdata\\local\\packages\\pythonsoftwarefoundation.python.3.10_qbz5n2kfra8p0\\localcache\\local-packages\\python310\\site-packages (from beautifulsoup4->gdown>=4.4.0->flair) (2.3.2.post1)\n",
      "Requirement already satisfied: MarkupSafe>=2.0 in c:\\users\\arpit\\appdata\\local\\packages\\pythonsoftwarefoundation.python.3.10_qbz5n2kfra8p0\\localcache\\local-packages\\python310\\site-packages (from jinja2->mpld3>=0.3->flair) (2.1.1)\n",
      "Requirement already satisfied: charset-normalizer<4,>=2 in c:\\users\\arpit\\appdata\\local\\packages\\pythonsoftwarefoundation.python.3.10_qbz5n2kfra8p0\\localcache\\local-packages\\python310\\site-packages (from requests->bpemb>=0.3.2->flair) (2.1.1)\n",
      "Requirement already satisfied: idna<4,>=2.5 in c:\\users\\arpit\\appdata\\local\\packages\\pythonsoftwarefoundation.python.3.10_qbz5n2kfra8p0\\localcache\\local-packages\\python310\\site-packages (from requests->bpemb>=0.3.2->flair) (3.4)\n",
      "Requirement already satisfied: certifi>=2017.4.17 in c:\\users\\arpit\\appdata\\local\\packages\\pythonsoftwarefoundation.python.3.10_qbz5n2kfra8p0\\localcache\\local-packages\\python310\\site-packages (from requests->bpemb>=0.3.2->flair) (2022.9.24)\n",
      "Collecting PySocks!=1.5.7,>=1.5.6 (from requests[socks]->gdown>=4.4.0->flair)\n",
      "  Downloading PySocks-1.7.1-py3-none-any.whl.metadata (13 kB)\n",
      "Requirement already satisfied: mpmath>=0.19 in c:\\users\\arpit\\appdata\\local\\packages\\pythonsoftwarefoundation.python.3.10_qbz5n2kfra8p0\\localcache\\local-packages\\python310\\site-packages (from sympy->torch!=1.8,>=1.5.0->flair) (1.3.0)\n",
      "Requirement already satisfied: psutil in c:\\users\\arpit\\appdata\\local\\packages\\pythonsoftwarefoundation.python.3.10_qbz5n2kfra8p0\\localcache\\local-packages\\python310\\site-packages (from accelerate>=0.21.0->transformers[sentencepiece,torch]<5.0,>=4.1->transformer-smaller-training-vocab>=0.2.3->flair) (5.9.4)\n",
      "Downloading flair-0.13.1-py3-none-any.whl (388 kB)\n",
      "   ---------------------------------------- 0.0/388.3 kB ? eta -:--:--\n",
      "   ------------------------------------- -- 368.6/388.3 kB 7.6 MB/s eta 0:00:01\n",
      "   ---------------------------------------- 388.3/388.3 kB 6.0 MB/s eta 0:00:00\n",
      "Downloading boto3-1.34.113-py3-none-any.whl (139 kB)\n",
      "   ---------------------------------------- 0.0/139.3 kB ? eta -:--:--\n",
      "   ---------------------------------------- 139.3/139.3 kB 8.1 MB/s eta 0:00:00\n",
      "Downloading bpemb-0.3.5-py3-none-any.whl (19 kB)\n",
      "Downloading conllu-4.5.3-py2.py3-none-any.whl (16 kB)\n",
      "Downloading ftfy-6.2.0-py3-none-any.whl (54 kB)\n",
      "   ---------------------------------------- 0.0/54.4 kB ? eta -:--:--\n",
      "   ---------------------------------------- 54.4/54.4 kB 2.8 MB/s eta 0:00:00\n",
      "Downloading gdown-5.2.0-py3-none-any.whl (18 kB)\n",
      "Downloading gensim-4.3.2-cp310-cp310-win_amd64.whl (24.0 MB)\n",
      "   ---------------------------------------- 0.0/24.0 MB ? eta -:--:--\n",
      "    --------------------------------------- 0.5/24.0 MB 10.5 MB/s eta 0:00:03\n",
      "   - -------------------------------------- 0.9/24.0 MB 11.4 MB/s eta 0:00:03\n",
      "   -- ------------------------------------- 1.4/24.0 MB 11.0 MB/s eta 0:00:03\n",
      "   -- ------------------------------------- 1.8/24.0 MB 10.4 MB/s eta 0:00:03\n",
      "   --- ------------------------------------ 2.1/24.0 MB 9.4 MB/s eta 0:00:03\n",
      "   --- ------------------------------------ 2.4/24.0 MB 9.0 MB/s eta 0:00:03\n",
      "   ---- ----------------------------------- 2.7/24.0 MB 8.5 MB/s eta 0:00:03\n",
      "   ---- ----------------------------------- 3.0/24.0 MB 8.2 MB/s eta 0:00:03\n",
      "   ----- ---------------------------------- 3.3/24.0 MB 8.1 MB/s eta 0:00:03\n",
      "   ----- ---------------------------------- 3.6/24.0 MB 7.8 MB/s eta 0:00:03\n",
      "   ------ --------------------------------- 3.8/24.0 MB 7.6 MB/s eta 0:00:03\n",
      "   ------ --------------------------------- 4.1/24.0 MB 7.5 MB/s eta 0:00:03\n",
      "   ------- -------------------------------- 4.4/24.0 MB 7.4 MB/s eta 0:00:03\n",
      "   ------- -------------------------------- 4.7/24.0 MB 7.3 MB/s eta 0:00:03\n",
      "   -------- ------------------------------- 5.0/24.0 MB 7.3 MB/s eta 0:00:03\n",
      "   -------- ------------------------------- 5.2/24.0 MB 7.0 MB/s eta 0:00:03\n",
      "   --------- ------------------------------ 5.4/24.0 MB 7.0 MB/s eta 0:00:03\n",
      "   --------- ------------------------------ 5.8/24.0 MB 7.0 MB/s eta 0:00:03\n",
      "   ---------- ----------------------------- 6.2/24.0 MB 7.0 MB/s eta 0:00:03\n",
      "   ---------- ----------------------------- 6.5/24.0 MB 7.1 MB/s eta 0:00:03\n",
      "   ----------- ---------------------------- 6.8/24.0 MB 7.0 MB/s eta 0:00:03\n",
      "   ----------- ---------------------------- 7.1/24.0 MB 7.0 MB/s eta 0:00:03\n",
      "   ------------ --------------------------- 7.4/24.0 MB 7.0 MB/s eta 0:00:03\n",
      "   ------------ --------------------------- 7.7/24.0 MB 6.9 MB/s eta 0:00:03\n",
      "   ------------- -------------------------- 8.0/24.0 MB 6.9 MB/s eta 0:00:03\n",
      "   ------------- -------------------------- 8.3/24.0 MB 6.9 MB/s eta 0:00:03\n",
      "   -------------- ------------------------- 8.6/24.0 MB 6.9 MB/s eta 0:00:03\n",
      "   -------------- ------------------------- 8.9/24.0 MB 6.8 MB/s eta 0:00:03\n",
      "   --------------- ------------------------ 9.2/24.0 MB 6.8 MB/s eta 0:00:03\n",
      "   --------------- ------------------------ 9.4/24.0 MB 6.8 MB/s eta 0:00:03\n",
      "   ---------------- ----------------------- 9.7/24.0 MB 6.8 MB/s eta 0:00:03\n",
      "   ---------------- ----------------------- 10.1/24.0 MB 6.8 MB/s eta 0:00:03\n",
      "   ----------------- ---------------------- 10.3/24.0 MB 6.7 MB/s eta 0:00:03\n",
      "   ----------------- ---------------------- 10.7/24.0 MB 6.6 MB/s eta 0:00:03\n",
      "   ------------------ --------------------- 11.0/24.0 MB 6.5 MB/s eta 0:00:02\n",
      "   ------------------ --------------------- 11.3/24.0 MB 6.5 MB/s eta 0:00:02\n",
      "   ------------------- -------------------- 11.5/24.0 MB 6.4 MB/s eta 0:00:02\n",
      "   ------------------- -------------------- 11.8/24.0 MB 6.4 MB/s eta 0:00:02\n",
      "   -------------------- ------------------- 12.2/24.0 MB 6.4 MB/s eta 0:00:02\n",
      "   -------------------- ------------------- 12.5/24.0 MB 6.4 MB/s eta 0:00:02\n",
      "   --------------------- ------------------ 12.8/24.0 MB 6.4 MB/s eta 0:00:02\n",
      "   --------------------- ------------------ 13.1/24.0 MB 6.4 MB/s eta 0:00:02\n",
      "   ---------------------- ----------------- 13.4/24.0 MB 6.4 MB/s eta 0:00:02\n",
      "   ---------------------- ----------------- 13.6/24.0 MB 6.4 MB/s eta 0:00:02\n",
      "   ----------------------- ---------------- 14.0/24.0 MB 6.4 MB/s eta 0:00:02\n",
      "   ----------------------- ---------------- 14.2/24.0 MB 6.4 MB/s eta 0:00:02\n",
      "   ------------------------ --------------- 14.5/24.0 MB 6.4 MB/s eta 0:00:02\n",
      "   ------------------------ --------------- 14.7/24.0 MB 6.4 MB/s eta 0:00:02\n",
      "   ------------------------ --------------- 15.0/24.0 MB 6.3 MB/s eta 0:00:02\n",
      "   ------------------------- -------------- 15.4/24.0 MB 6.4 MB/s eta 0:00:02\n",
      "   -------------------------- ------------- 15.7/24.0 MB 6.5 MB/s eta 0:00:02\n",
      "   -------------------------- ------------- 16.1/24.0 MB 6.4 MB/s eta 0:00:02\n",
      "   --------------------------- ------------ 16.4/24.0 MB 6.4 MB/s eta 0:00:02\n",
      "   --------------------------- ------------ 16.7/24.0 MB 6.4 MB/s eta 0:00:02\n",
      "   ---------------------------- ----------- 17.0/24.0 MB 6.4 MB/s eta 0:00:02\n",
      "   ---------------------------- ----------- 17.3/24.0 MB 6.4 MB/s eta 0:00:02\n",
      "   ----------------------------- ---------- 17.5/24.0 MB 6.4 MB/s eta 0:00:02\n",
      "   ----------------------------- ---------- 17.8/24.0 MB 6.4 MB/s eta 0:00:01\n",
      "   ------------------------------ --------- 18.1/24.0 MB 6.3 MB/s eta 0:00:01\n",
      "   ------------------------------ --------- 18.2/24.0 MB 6.2 MB/s eta 0:00:01\n",
      "   ------------------------------ --------- 18.6/24.0 MB 6.3 MB/s eta 0:00:01\n",
      "   ------------------------------- -------- 18.8/24.0 MB 6.2 MB/s eta 0:00:01\n",
      "   ------------------------------- -------- 19.1/24.0 MB 6.2 MB/s eta 0:00:01\n",
      "   -------------------------------- ------- 19.3/24.0 MB 6.2 MB/s eta 0:00:01\n",
      "   -------------------------------- ------- 19.6/24.0 MB 6.2 MB/s eta 0:00:01\n",
      "   --------------------------------- ------ 19.9/24.0 MB 6.2 MB/s eta 0:00:01\n",
      "   --------------------------------- ------ 20.2/24.0 MB 6.2 MB/s eta 0:00:01\n",
      "   ---------------------------------- ----- 20.5/24.0 MB 6.2 MB/s eta 0:00:01\n",
      "   ---------------------------------- ----- 20.9/24.0 MB 6.2 MB/s eta 0:00:01\n",
      "   ----------------------------------- ---- 21.2/24.0 MB 6.3 MB/s eta 0:00:01\n",
      "   ----------------------------------- ---- 21.6/24.0 MB 6.3 MB/s eta 0:00:01\n",
      "   ------------------------------------ --- 21.9/24.0 MB 6.4 MB/s eta 0:00:01\n",
      "   ------------------------------------- -- 22.3/24.0 MB 6.4 MB/s eta 0:00:01\n",
      "   ------------------------------------- -- 22.6/24.0 MB 6.4 MB/s eta 0:00:01\n",
      "   ------------------------------------- -- 22.7/24.0 MB 6.3 MB/s eta 0:00:01\n",
      "   -------------------------------------- - 23.0/24.0 MB 6.2 MB/s eta 0:00:01\n",
      "   -------------------------------------- - 23.3/24.0 MB 6.2 MB/s eta 0:00:01\n",
      "   ---------------------------------------  23.7/24.0 MB 6.4 MB/s eta 0:00:01\n",
      "   ---------------------------------------  24.0/24.0 MB 6.3 MB/s eta 0:00:01\n",
      "   ---------------------------------------  24.0/24.0 MB 6.3 MB/s eta 0:00:01\n",
      "   ---------------------------------------- 24.0/24.0 MB 5.9 MB/s eta 0:00:00\n",
      "Downloading Janome-0.5.0-py2.py3-none-any.whl (19.7 MB)\n",
      "   ---------------------------------------- 0.0/19.7 MB ? eta -:--:--\n",
      "    --------------------------------------- 0.4/19.7 MB 7.6 MB/s eta 0:00:03\n",
      "   - -------------------------------------- 0.6/19.7 MB 6.5 MB/s eta 0:00:03\n",
      "   - -------------------------------------- 1.0/19.7 MB 6.7 MB/s eta 0:00:03\n",
      "   -- ------------------------------------- 1.3/19.7 MB 7.3 MB/s eta 0:00:03\n",
      "   --- ------------------------------------ 1.6/19.7 MB 7.0 MB/s eta 0:00:03\n",
      "   ---- ----------------------------------- 2.0/19.7 MB 7.1 MB/s eta 0:00:03\n",
      "   ---- ----------------------------------- 2.2/19.7 MB 6.8 MB/s eta 0:00:03\n",
      "   ----- ---------------------------------- 2.7/19.7 MB 7.0 MB/s eta 0:00:03\n",
      "   ----- ---------------------------------- 2.9/19.7 MB 7.2 MB/s eta 0:00:03\n",
      "   ------- -------------------------------- 3.4/19.7 MB 7.3 MB/s eta 0:00:03\n",
      "   ------- -------------------------------- 3.9/19.7 MB 7.5 MB/s eta 0:00:03\n",
      "   -------- ------------------------------- 4.1/19.7 MB 7.3 MB/s eta 0:00:03\n",
      "   -------- ------------------------------- 4.4/19.7 MB 7.4 MB/s eta 0:00:03\n",
      "   --------- ------------------------------ 4.7/19.7 MB 7.1 MB/s eta 0:00:03\n",
      "   ---------- ----------------------------- 5.0/19.7 MB 7.1 MB/s eta 0:00:03\n",
      "   ---------- ----------------------------- 5.2/19.7 MB 6.9 MB/s eta 0:00:03\n",
      "   ----------- ---------------------------- 5.6/19.7 MB 7.0 MB/s eta 0:00:03\n",
      "   ----------- ---------------------------- 5.8/19.7 MB 6.9 MB/s eta 0:00:03\n",
      "   ------------ --------------------------- 6.2/19.7 MB 6.9 MB/s eta 0:00:02\n",
      "   ------------- -------------------------- 6.4/19.7 MB 6.8 MB/s eta 0:00:02\n",
      "   ------------- -------------------------- 6.8/19.7 MB 6.9 MB/s eta 0:00:02\n",
      "   -------------- ------------------------- 7.1/19.7 MB 6.9 MB/s eta 0:00:02\n",
      "   --------------- ------------------------ 7.4/19.7 MB 6.9 MB/s eta 0:00:02\n",
      "   --------------- ------------------------ 7.6/19.7 MB 6.8 MB/s eta 0:00:02\n",
      "   --------------- ------------------------ 7.7/19.7 MB 6.8 MB/s eta 0:00:02\n",
      "   ---------------- ----------------------- 8.0/19.7 MB 6.6 MB/s eta 0:00:02\n",
      "   ---------------- ----------------------- 8.3/19.7 MB 6.5 MB/s eta 0:00:02\n",
      "   ----------------- ---------------------- 8.6/19.7 MB 6.7 MB/s eta 0:00:02\n",
      "   ------------------ --------------------- 8.9/19.7 MB 6.5 MB/s eta 0:00:02\n",
      "   ------------------ --------------------- 9.3/19.7 MB 6.7 MB/s eta 0:00:02\n",
      "   ------------------- -------------------- 9.6/19.7 MB 6.7 MB/s eta 0:00:02\n",
      "   -------------------- ------------------- 10.1/19.7 MB 6.8 MB/s eta 0:00:02\n",
      "   --------------------- ------------------ 10.4/19.7 MB 6.8 MB/s eta 0:00:02\n",
      "   --------------------- ------------------ 10.7/19.7 MB 6.8 MB/s eta 0:00:02\n",
      "   ---------------------- ----------------- 10.9/19.7 MB 6.7 MB/s eta 0:00:02\n",
      "   ---------------------- ----------------- 11.3/19.7 MB 6.7 MB/s eta 0:00:02\n",
      "   ----------------------- ---------------- 11.6/19.7 MB 6.7 MB/s eta 0:00:02\n",
      "   ------------------------ --------------- 11.9/19.7 MB 6.7 MB/s eta 0:00:02\n",
      "   ------------------------ --------------- 12.1/19.7 MB 6.5 MB/s eta 0:00:02\n",
      "   ------------------------- -------------- 12.4/19.7 MB 6.7 MB/s eta 0:00:02\n",
      "   ------------------------- -------------- 12.7/19.7 MB 6.6 MB/s eta 0:00:02\n",
      "   -------------------------- ------------- 13.0/19.7 MB 6.5 MB/s eta 0:00:02\n",
      "   --------------------------- ------------ 13.3/19.7 MB 6.5 MB/s eta 0:00:01\n",
      "   --------------------------- ------------ 13.6/19.7 MB 6.4 MB/s eta 0:00:01\n",
      "   ---------------------------- ----------- 13.9/19.7 MB 6.4 MB/s eta 0:00:01\n",
      "   ---------------------------- ----------- 14.2/19.7 MB 6.4 MB/s eta 0:00:01\n",
      "   ----------------------------- ---------- 14.6/19.7 MB 6.4 MB/s eta 0:00:01\n",
      "   ----------------------------- ---------- 14.7/19.7 MB 6.4 MB/s eta 0:00:01\n",
      "   ------------------------------ --------- 15.1/19.7 MB 6.4 MB/s eta 0:00:01\n",
      "   ------------------------------- -------- 15.4/19.7 MB 6.4 MB/s eta 0:00:01\n",
      "   ------------------------------- -------- 15.6/19.7 MB 6.4 MB/s eta 0:00:01\n",
      "   -------------------------------- ------- 16.0/19.7 MB 6.4 MB/s eta 0:00:01\n",
      "   --------------------------------- ------ 16.3/19.7 MB 6.4 MB/s eta 0:00:01\n",
      "   --------------------------------- ------ 16.6/19.7 MB 6.5 MB/s eta 0:00:01\n",
      "   ---------------------------------- ----- 16.9/19.7 MB 6.4 MB/s eta 0:00:01\n",
      "   ----------------------------------- ---- 17.2/19.7 MB 6.4 MB/s eta 0:00:01\n",
      "   ----------------------------------- ---- 17.4/19.7 MB 6.4 MB/s eta 0:00:01\n",
      "   ------------------------------------ --- 17.7/19.7 MB 6.3 MB/s eta 0:00:01\n",
      "   ------------------------------------ --- 18.0/19.7 MB 6.5 MB/s eta 0:00:01\n",
      "   ------------------------------------- -- 18.4/19.7 MB 6.6 MB/s eta 0:00:01\n",
      "   -------------------------------------- - 18.7/19.7 MB 6.5 MB/s eta 0:00:01\n",
      "   -------------------------------------- - 19.0/19.7 MB 6.5 MB/s eta 0:00:01\n",
      "   ---------------------------------------  19.3/19.7 MB 6.5 MB/s eta 0:00:01\n",
      "   ---------------------------------------  19.6/19.7 MB 6.5 MB/s eta 0:00:01\n",
      "   ---------------------------------------  19.7/19.7 MB 6.4 MB/s eta 0:00:01\n",
      "   ---------------------------------------- 19.7/19.7 MB 6.2 MB/s eta 0:00:00\n",
      "Downloading lxml-5.2.2-cp310-cp310-win_amd64.whl (3.8 MB)\n",
      "   ---------------------------------------- 0.0/3.8 MB ? eta -:--:--\n",
      "   --- ------------------------------------ 0.4/3.8 MB 7.8 MB/s eta 0:00:01\n",
      "   ------- -------------------------------- 0.7/3.8 MB 7.6 MB/s eta 0:00:01\n",
      "   ----------- ---------------------------- 1.1/3.8 MB 7.9 MB/s eta 0:00:01\n",
      "   --------------- ------------------------ 1.5/3.8 MB 7.8 MB/s eta 0:00:01\n",
      "   ------------------ --------------------- 1.8/3.8 MB 7.6 MB/s eta 0:00:01\n",
      "   ---------------------- ----------------- 2.1/3.8 MB 7.6 MB/s eta 0:00:01\n",
      "   ------------------------- -------------- 2.4/3.8 MB 7.3 MB/s eta 0:00:01\n",
      "   ---------------------------- ----------- 2.7/3.8 MB 7.1 MB/s eta 0:00:01\n",
      "   ------------------------------ --------- 2.9/3.8 MB 7.0 MB/s eta 0:00:01\n",
      "   ----------------------------------- ---- 3.3/3.8 MB 7.1 MB/s eta 0:00:01\n",
      "   -------------------------------------- - 3.7/3.8 MB 7.2 MB/s eta 0:00:01\n",
      "   ---------------------------------------  3.8/3.8 MB 7.1 MB/s eta 0:00:01\n",
      "   ---------------------------------------- 3.8/3.8 MB 6.4 MB/s eta 0:00:00\n",
      "Downloading more_itertools-10.2.0-py3-none-any.whl (57 kB)\n",
      "   ---------------------------------------- 0.0/57.0 kB ? eta -:--:--\n",
      "   ---------------------------------------- 57.0/57.0 kB ? eta 0:00:00\n",
      "Downloading mpld3-0.5.10-py3-none-any.whl (202 kB)\n",
      "   ---------------------------------------- 0.0/202.6 kB ? eta -:--:--\n",
      "   ---------------------------------------- 202.6/202.6 kB 6.2 MB/s eta 0:00:00\n",
      "Downloading pytorch_revgrad-0.2.0-py3-none-any.whl (4.6 kB)\n",
      "Downloading segtok-1.5.11-py3-none-any.whl (24 kB)\n",
      "Downloading semver-3.0.2-py3-none-any.whl (17 kB)\n",
      "Downloading tabulate-0.9.0-py3-none-any.whl (35 kB)\n",
      "Downloading transformer_smaller_training_vocab-0.4.0-py3-none-any.whl (14 kB)\n",
      "Downloading Wikipedia_API-0.6.0-py3-none-any.whl (14 kB)\n",
      "Downloading botocore-1.34.113-py3-none-any.whl (12.3 MB)\n",
      "   ---------------------------------------- 0.0/12.3 MB ? eta -:--:--\n",
      "   - -------------------------------------- 0.5/12.3 MB 9.6 MB/s eta 0:00:02\n",
      "   -- ------------------------------------- 0.8/12.3 MB 10.4 MB/s eta 0:00:02\n",
      "   --- ------------------------------------ 1.1/12.3 MB 7.8 MB/s eta 0:00:02\n",
      "   ---- ----------------------------------- 1.5/12.3 MB 8.0 MB/s eta 0:00:02\n",
      "   ----- ---------------------------------- 1.8/12.3 MB 7.8 MB/s eta 0:00:02\n",
      "   ------- -------------------------------- 2.2/12.3 MB 7.8 MB/s eta 0:00:02\n",
      "   -------- ------------------------------- 2.6/12.3 MB 8.0 MB/s eta 0:00:02\n",
      "   --------- ------------------------------ 2.9/12.3 MB 7.8 MB/s eta 0:00:02\n",
      "   ---------- ----------------------------- 3.1/12.3 MB 7.4 MB/s eta 0:00:02\n",
      "   ----------- ---------------------------- 3.5/12.3 MB 7.5 MB/s eta 0:00:02\n",
      "   ------------ --------------------------- 3.8/12.3 MB 7.4 MB/s eta 0:00:02\n",
      "   ------------- -------------------------- 4.2/12.3 MB 7.4 MB/s eta 0:00:02\n",
      "   -------------- ------------------------- 4.4/12.3 MB 7.4 MB/s eta 0:00:02\n",
      "   --------------- ------------------------ 4.8/12.3 MB 7.2 MB/s eta 0:00:02\n",
      "   ---------------- ----------------------- 5.1/12.3 MB 7.2 MB/s eta 0:00:02\n",
      "   ----------------- ---------------------- 5.3/12.3 MB 7.1 MB/s eta 0:00:01\n",
      "   ------------------ --------------------- 5.7/12.3 MB 7.2 MB/s eta 0:00:01\n",
      "   ------------------ --------------------- 5.8/12.3 MB 7.0 MB/s eta 0:00:01\n",
      "   ------------------- -------------------- 6.1/12.3 MB 7.0 MB/s eta 0:00:01\n",
      "   -------------------- ------------------- 6.4/12.3 MB 6.9 MB/s eta 0:00:01\n",
      "   ---------------------- ----------------- 6.8/12.3 MB 7.0 MB/s eta 0:00:01\n",
      "   ----------------------- ---------------- 7.1/12.3 MB 7.0 MB/s eta 0:00:01\n",
      "   ------------------------ --------------- 7.4/12.3 MB 7.0 MB/s eta 0:00:01\n",
      "   ------------------------- -------------- 7.7/12.3 MB 6.9 MB/s eta 0:00:01\n",
      "   -------------------------- ------------- 8.0/12.3 MB 6.9 MB/s eta 0:00:01\n",
      "   --------------------------- ------------ 8.3/12.3 MB 6.9 MB/s eta 0:00:01\n",
      "   ---------------------------- ----------- 8.6/12.3 MB 6.9 MB/s eta 0:00:01\n",
      "   ---------------------------- ----------- 8.9/12.3 MB 6.8 MB/s eta 0:00:01\n",
      "   ------------------------------ --------- 9.2/12.3 MB 6.8 MB/s eta 0:00:01\n",
      "   ------------------------------ --------- 9.5/12.3 MB 6.8 MB/s eta 0:00:01\n",
      "   ------------------------------- -------- 9.8/12.3 MB 6.8 MB/s eta 0:00:01\n",
      "   -------------------------------- ------- 10.0/12.3 MB 6.8 MB/s eta 0:00:01\n",
      "   --------------------------------- ------ 10.3/12.3 MB 6.7 MB/s eta 0:00:01\n",
      "   ---------------------------------- ----- 10.6/12.3 MB 6.7 MB/s eta 0:00:01\n",
      "   ----------------------------------- ---- 11.0/12.3 MB 6.6 MB/s eta 0:00:01\n",
      "   ------------------------------------ --- 11.3/12.3 MB 6.7 MB/s eta 0:00:01\n",
      "   ------------------------------------- -- 11.5/12.3 MB 6.5 MB/s eta 0:00:01\n",
      "   -------------------------------------- - 11.8/12.3 MB 6.5 MB/s eta 0:00:01\n",
      "   ---------------------------------------  12.2/12.3 MB 6.5 MB/s eta 0:00:01\n",
      "   ---------------------------------------  12.3/12.3 MB 6.4 MB/s eta 0:00:01\n",
      "   ---------------------------------------- 12.3/12.3 MB 6.2 MB/s eta 0:00:00\n",
      "Downloading jmespath-1.0.1-py3-none-any.whl (20 kB)\n",
      "Downloading s3transfer-0.10.1-py3-none-any.whl (82 kB)\n",
      "   ---------------------------------------- 0.0/82.2 kB ? eta -:--:--\n",
      "   ---------------------------------------- 82.2/82.2 kB 4.8 MB/s eta 0:00:00\n",
      "Downloading sentencepiece-0.2.0-cp310-cp310-win_amd64.whl (991 kB)\n",
      "   ---------------------------------------- 0.0/991.5 kB ? eta -:--:--\n",
      "   ---------- ----------------------------- 256.0/991.5 kB 7.7 MB/s eta 0:00:01\n",
      "   -------------------- ------------------- 512.0/991.5 kB 6.4 MB/s eta 0:00:01\n",
      "   ------------------------------- -------- 778.2/991.5 kB 6.1 MB/s eta 0:00:01\n",
      "   ---------------------------------------  983.0/991.5 kB 6.2 MB/s eta 0:00:01\n",
      "   ---------------------------------------- 991.5/991.5 kB 5.2 MB/s eta 0:00:00\n",
      "Downloading wcwidth-0.2.13-py2.py3-none-any.whl (34 kB)\n",
      "Downloading accelerate-0.30.1-py3-none-any.whl (302 kB)\n",
      "   ---------------------------------------- 0.0/302.6 kB ? eta -:--:--\n",
      "   --------------------------------- ------ 256.0/302.6 kB 7.9 MB/s eta 0:00:01\n",
      "   ---------------------------------------- 302.6/302.6 kB 4.7 MB/s eta 0:00:00\n",
      "Downloading PySocks-1.7.1-py3-none-any.whl (16 kB)\n",
      "Building wheels for collected packages: langdetect, pptree, sqlitedict\n",
      "  Building wheel for langdetect (setup.py): started\n",
      "  Building wheel for langdetect (setup.py): finished with status 'done'\n",
      "  Created wheel for langdetect: filename=langdetect-1.0.9-py3-none-any.whl size=993253 sha256=2d9f1e51ff65e66def06eb2653f2bb8e34cd06b3a0ca39e4277a89ef58dc8508\n",
      "  Stored in directory: c:\\users\\arpit\\appdata\\local\\pip\\cache\\wheels\\95\\03\\7d\\59ea870c70ce4e5a370638b5462a7711ab78fba2f655d05106\n",
      "  Building wheel for pptree (setup.py): started\n",
      "  Building wheel for pptree (setup.py): finished with status 'done'\n",
      "  Created wheel for pptree: filename=pptree-3.1-py3-none-any.whl size=4613 sha256=2dc9506692b3e74f1243585f8fadfb2e6897767a38bb266d82ad8ed07f9f4206\n",
      "  Stored in directory: c:\\users\\arpit\\appdata\\local\\pip\\cache\\wheels\\9f\\b6\\0e\\6f26eb9e6eb53ff2107a7888d72b5a6a597593956113037828\n",
      "  Building wheel for sqlitedict (setup.py): started\n",
      "  Building wheel for sqlitedict (setup.py): finished with status 'done'\n",
      "  Created wheel for sqlitedict: filename=sqlitedict-2.1.0-py3-none-any.whl size=16901 sha256=6b6a31e4e19a3d529f847711df424bb2acb363e977160616e5920c820296dd0d\n",
      "  Stored in directory: c:\\users\\arpit\\appdata\\local\\pip\\cache\\wheels\\79\\d6\\e7\\304e0e6cb2221022c26d8161f7c23cd4f259a9e41e8bbcfabd\n",
      "Successfully built langdetect pptree sqlitedict\n",
      "Installing collected packages: wcwidth, sqlitedict, sentencepiece, pptree, janome, tabulate, semver, segtok, PySocks, more-itertools, lxml, langdetect, jmespath, ftfy, conllu, wikipedia-api, gensim, botocore, s3transfer, pytorch-revgrad, mpld3, gdown, bpemb, accelerate, boto3, transformer-smaller-training-vocab, flair\n",
      "  Attempting uninstall: wcwidth\n",
      "    Found existing installation: wcwidth 0.2.6\n",
      "    Uninstalling wcwidth-0.2.6:\n",
      "      Successfully uninstalled wcwidth-0.2.6\n",
      "Successfully installed PySocks-1.7.1 accelerate-0.30.1 boto3-1.34.113 botocore-1.34.113 bpemb-0.3.5 conllu-4.5.3 flair-0.13.1 ftfy-6.2.0 gdown-5.2.0 gensim-4.3.2 janome-0.5.0 jmespath-1.0.1 langdetect-1.0.9 lxml-5.2.2 more-itertools-10.2.0 mpld3-0.5.10 pptree-3.1 pytorch-revgrad-0.2.0 s3transfer-0.10.1 segtok-1.5.11 semver-3.0.2 sentencepiece-0.2.0 sqlitedict-2.1.0 tabulate-0.9.0 transformer-smaller-training-vocab-0.4.0 wcwidth-0.2.13 wikipedia-api-0.6.0\n"
     ]
    }
   ],
   "source": [
    "!pip install flair"
   ]
  },
  {
   "cell_type": "markdown",
   "id": "6b20487f",
   "metadata": {},
   "source": [
    "1. Initialize the Model\n",
    "2. Tokenizing\n",
    "3. Process with model\n",
    "4. Format the outputs"
   ]
  },
  {
   "cell_type": "code",
   "execution_count": 2,
   "id": "bf2f6a92",
   "metadata": {},
   "outputs": [
    {
     "name": "stdout",
     "output_type": "stream",
     "text": [
      "2024-05-26 12:16:07,716 https://nlp.informatik.hu-berlin.de/resources/models/sentiment-curated-distilbert/sentiment-en-mix-distillbert_4.pt not found in cache, downloading to C:\\Users\\arpit\\AppData\\Local\\Temp\\tmp8fgpjuz8\n"
     ]
    },
    {
     "name": "stderr",
     "output_type": "stream",
     "text": [
      "100%|████████████████████████████████████████████████████████████████████████████████| 253M/253M [05:12<00:00, 850kB/s]"
     ]
    },
    {
     "name": "stdout",
     "output_type": "stream",
     "text": [
      "2024-05-26 12:21:20,746 copying C:\\Users\\arpit\\AppData\\Local\\Temp\\tmp8fgpjuz8 to cache at C:\\Users\\arpit\\.flair\\models\\sentiment-en-mix-distillbert_4.pt\n"
     ]
    },
    {
     "name": "stderr",
     "output_type": "stream",
     "text": [
      "\n"
     ]
    },
    {
     "name": "stdout",
     "output_type": "stream",
     "text": [
      "2024-05-26 12:21:20,913 removing temp file C:\\Users\\arpit\\AppData\\Local\\Temp\\tmp8fgpjuz8\n"
     ]
    },
    {
     "data": {
      "application/vnd.jupyter.widget-view+json": {
       "model_id": "97140f4a70fe47bc87fcd5b6155479c3",
       "version_major": 2,
       "version_minor": 0
      },
      "text/plain": [
       "tokenizer_config.json:   0%|          | 0.00/48.0 [00:00<?, ?B/s]"
      ]
     },
     "metadata": {},
     "output_type": "display_data"
    },
    {
     "data": {
      "application/vnd.jupyter.widget-view+json": {
       "model_id": "1477f2e033d64e0d8c9e32358778cd51",
       "version_major": 2,
       "version_minor": 0
      },
      "text/plain": [
       "config.json:   0%|          | 0.00/483 [00:00<?, ?B/s]"
      ]
     },
     "metadata": {},
     "output_type": "display_data"
    },
    {
     "data": {
      "application/vnd.jupyter.widget-view+json": {
       "model_id": "d147bda1ab9c48109ca0a709ae5e0329",
       "version_major": 2,
       "version_minor": 0
      },
      "text/plain": [
       "vocab.txt:   0%|          | 0.00/232k [00:00<?, ?B/s]"
      ]
     },
     "metadata": {},
     "output_type": "display_data"
    },
    {
     "data": {
      "application/vnd.jupyter.widget-view+json": {
       "model_id": "3b12005ca2634b779996cd78cc202ca6",
       "version_major": 2,
       "version_minor": 0
      },
      "text/plain": [
       "tokenizer.json:   0%|          | 0.00/466k [00:00<?, ?B/s]"
      ]
     },
     "metadata": {},
     "output_type": "display_data"
    }
   ],
   "source": [
    "import flair\n",
    "\n",
    "#loading model for sentiment analysis in english language\n",
    "model = flair.models.TextClassifier.load('en-sentiment')"
   ]
  },
  {
   "cell_type": "code",
   "execution_count": 3,
   "id": "bce2fb6e",
   "metadata": {},
   "outputs": [
    {
     "data": {
      "text/plain": [
       "Sentence[3]: \"This is good\""
      ]
     },
     "execution_count": 3,
     "metadata": {},
     "output_type": "execute_result"
    }
   ],
   "source": [
    "text = 'This is good'\n",
    "\n",
    "#tokenizing the sentence\n",
    "sentence = flair.data.Sentence(text)\n",
    "\n",
    "sentence"
   ]
  },
  {
   "cell_type": "code",
   "execution_count": 4,
   "id": "9a1a058e",
   "metadata": {},
   "outputs": [
    {
     "data": {
      "text/plain": [
       "'This is good'"
      ]
     },
     "execution_count": 4,
     "metadata": {},
     "output_type": "execute_result"
    }
   ],
   "source": [
    "#to see the tokenized string\n",
    "sentence.to_tokenized_string()"
   ]
  },
  {
   "cell_type": "code",
   "execution_count": 5,
   "id": "cbc332b1",
   "metadata": {},
   "outputs": [],
   "source": [
    "#process the tokenized input with the model\n",
    "\n",
    "model.predict(sentence)"
   ]
  },
  {
   "cell_type": "code",
   "execution_count": 6,
   "id": "85754491",
   "metadata": {},
   "outputs": [
    {
     "data": {
      "text/plain": [
       "Sentence[3]: \"This is good\" → POSITIVE (0.9771)"
      ]
     },
     "execution_count": 6,
     "metadata": {},
     "output_type": "execute_result"
    }
   ],
   "source": [
    "sentence"
   ]
  },
  {
   "cell_type": "code",
   "execution_count": 7,
   "id": "38d57874",
   "metadata": {},
   "outputs": [],
   "source": [
    "text = 'This is not good'"
   ]
  },
  {
   "cell_type": "code",
   "execution_count": 8,
   "id": "995f68aa",
   "metadata": {},
   "outputs": [],
   "source": [
    "#tokenizing the sentence\n",
    "sentence = flair.data.Sentence(text)"
   ]
  },
  {
   "cell_type": "code",
   "execution_count": 9,
   "id": "279aae64",
   "metadata": {},
   "outputs": [],
   "source": [
    "model.predict(sentence)"
   ]
  },
  {
   "cell_type": "code",
   "execution_count": 10,
   "id": "77a3daa2",
   "metadata": {},
   "outputs": [
    {
     "data": {
      "text/plain": [
       "['Sentence[4]: \"This is not good\"'/'NEGATIVE' (0.9999)]"
      ]
     },
     "execution_count": 10,
     "metadata": {},
     "output_type": "execute_result"
    }
   ],
   "source": [
    "sentence.get_labels()"
   ]
  },
  {
   "cell_type": "code",
   "execution_count": 11,
   "id": "d5e1cbd5",
   "metadata": {},
   "outputs": [
    {
     "name": "stdout",
     "output_type": "stream",
     "text": [
      "Help on Label in module flair.data object:\n",
      "\n",
      "class Label(builtins.object)\n",
      " |  Label(data_point: 'DataPoint', value: str, score: float = 1.0) -> None\n",
      " |  \n",
      " |  This class represents a label.\n",
      " |  \n",
      " |  Each label has a value and optionally a confidence score. The score needs to be between 0.0 and 1.0.\n",
      " |  Default value for the score is 1.0.\n",
      " |  \n",
      " |  Methods defined here:\n",
      " |  \n",
      " |  __eq__(self, other)\n",
      " |      Return self==value.\n",
      " |  \n",
      " |  __hash__(self)\n",
      " |      Return hash(self).\n",
      " |  \n",
      " |  __init__(self, data_point: 'DataPoint', value: str, score: float = 1.0) -> None\n",
      " |      Initialize self.  See help(type(self)) for accurate signature.\n",
      " |  \n",
      " |  __lt__(self, other)\n",
      " |      Return self<value.\n",
      " |  \n",
      " |  __repr__(self) -> str\n",
      " |      Return repr(self).\n",
      " |  \n",
      " |  __str__(self) -> str\n",
      " |      Return str(self).\n",
      " |  \n",
      " |  set_value(self, value: str, score: float = 1.0)\n",
      " |  \n",
      " |  to_dict(self)\n",
      " |  \n",
      " |  ----------------------------------------------------------------------\n",
      " |  Readonly properties defined here:\n",
      " |  \n",
      " |  labeled_identifier\n",
      " |  \n",
      " |  score\n",
      " |  \n",
      " |  shortstring\n",
      " |  \n",
      " |  unlabeled_identifier\n",
      " |  \n",
      " |  value\n",
      " |  \n",
      " |  ----------------------------------------------------------------------\n",
      " |  Data descriptors defined here:\n",
      " |  \n",
      " |  __dict__\n",
      " |      dictionary for instance variables (if defined)\n",
      " |  \n",
      " |  __weakref__\n",
      " |      list of weak references to the object (if defined)\n",
      "\n"
     ]
    }
   ],
   "source": [
    "help(sentence.get_labels()[0])"
   ]
  },
  {
   "cell_type": "code",
   "execution_count": 12,
   "id": "a01d040d",
   "metadata": {},
   "outputs": [
    {
     "data": {
      "text/plain": [
       "0.9998849630355835"
      ]
     },
     "execution_count": 12,
     "metadata": {},
     "output_type": "execute_result"
    }
   ],
   "source": [
    "sentence.get_labels()[0].score"
   ]
  },
  {
   "cell_type": "code",
   "execution_count": 13,
   "id": "037505df",
   "metadata": {},
   "outputs": [
    {
     "data": {
      "text/plain": [
       "'NEGATIVE'"
      ]
     },
     "execution_count": 13,
     "metadata": {},
     "output_type": "execute_result"
    }
   ],
   "source": [
    "sentence.get_labels()[0].value"
   ]
  },
  {
   "cell_type": "code",
   "execution_count": 14,
   "id": "1c4ad478",
   "metadata": {},
   "outputs": [
    {
     "data": {
      "text/plain": [
       "(0.9998849630355835, 'NEGATIVE')"
      ]
     },
     "execution_count": 14,
     "metadata": {},
     "output_type": "execute_result"
    }
   ],
   "source": [
    "sentence.labels[0].score, sentence.labels[0].value"
   ]
  },
  {
   "cell_type": "code",
   "execution_count": null,
   "id": "656ebe74",
   "metadata": {},
   "outputs": [],
   "source": []
  },
  {
   "cell_type": "code",
   "execution_count": null,
   "id": "b0fed8f7",
   "metadata": {},
   "outputs": [],
   "source": []
  }
 ],
 "metadata": {
  "kernelspec": {
   "display_name": "Python 3 (ipykernel)",
   "language": "python",
   "name": "python3"
  },
  "language_info": {
   "codemirror_mode": {
    "name": "ipython",
    "version": 3
   },
   "file_extension": ".py",
   "mimetype": "text/x-python",
   "name": "python",
   "nbconvert_exporter": "python",
   "pygments_lexer": "ipython3",
   "version": "3.10.11"
  }
 },
 "nbformat": 4,
 "nbformat_minor": 5
}
